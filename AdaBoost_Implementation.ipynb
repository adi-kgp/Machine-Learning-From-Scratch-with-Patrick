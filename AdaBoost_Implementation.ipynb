{
  "nbformat": 4,
  "nbformat_minor": 0,
  "metadata": {
    "colab": {
      "provenance": []
    },
    "kernelspec": {
      "name": "python3",
      "display_name": "Python 3"
    },
    "language_info": {
      "name": "python"
    }
  },
  "cells": [
    {
      "cell_type": "markdown",
      "source": [
        "## AdaBoost Algorithm Implementation"
      ],
      "metadata": {
        "id": "z43PasboDg3n"
      }
    },
    {
      "cell_type": "code",
      "source": [
        "import numpy as np\n",
        "\n",
        "class DecisionStump:\n",
        "\n",
        "    def __init__(self):\n",
        "        self.polarity = 1\n",
        "        self.feature_idx = None\n",
        "        self.threshold = None\n",
        "        self.alpha = None\n",
        "\n",
        "    def predict(self, X):\n",
        "        n_samples = X.shape[0]\n",
        "        X_column = X[:, self.feature_idx]\n",
        "\n",
        "        predictions = np.ones(n_samples)\n",
        "        if self.polarity == 1:\n",
        "            predictions[X_column < self.threshold] = -1\n",
        "        else:\n",
        "            predictions[X_column > self.threshold] = -1\n",
        "        return predictions\n",
        "\n",
        "    \n",
        "class Adaboost:\n",
        "\n",
        "    def __init__(self, n_clf=5):\n",
        "        self.n_clf = n_clf\n",
        "\n",
        "    def fit(self, X, y):\n",
        "        n_samples, n_features = X.shape\n",
        "\n",
        "        # init weights\n",
        "        w = np.full(n_samples, (1/n_samples))\n",
        "\n",
        "        self.clfs = []\n",
        "        for _ in range(self.n_clf):\n",
        "            clf = DecisionStump()\n",
        "\n",
        "            min_error = float('inf')\n",
        "            for feature_i in range(n_features):\n",
        "                X_column = X[:, feature_i]\n",
        "                thresholds = np.unique(X_column)\n",
        "                for threshold in thresholds:\n",
        "                    p = 1\n",
        "                    predictions = np.ones(n_samples)\n",
        "                    predictions[X_column < threshold] = -1\n",
        "\n",
        "                    missclassified = w[y != predictions]\n",
        "                    error = sum(missclassified)\n",
        "\n",
        "                    if error > 0.5:\n",
        "                        error = 1 - error\n",
        "                        p = -1\n",
        "\n",
        "                    if error < min_error:\n",
        "                        min_error = error\n",
        "                        clf.polarity = p\n",
        "                        clf.threshold = threshold\n",
        "                        clf.feature_idx = feature_i\n",
        "\n",
        "            EPS = 1e-10\n",
        "            clf.alpha = 0.5 * np.log((1-error) / (error + EPS))\n",
        "\n",
        "            predictions = clf.predict(X)\n",
        "\n",
        "            w *= np.exp(-clf.alpha * y * predictions)\n",
        "            w /= np.sum(w)\n",
        "\n",
        "            self.clfs.append(clf)\n",
        "\n",
        "    def predict(self, X):\n",
        "        clf_preds = [clf.alpha * clf.predict(X) for clf in self.clfs]\n",
        "        y_pred = np.sum(clf_preds, axis=0)\n",
        "        y_pred = np.sign(y_pred)\n",
        "        return y_pred"
      ],
      "metadata": {
        "id": "vff8W3HuGmBB"
      },
      "execution_count": 1,
      "outputs": []
    },
    {
      "cell_type": "code",
      "source": [
        "# Testing the Adaboost Class implementation above\n",
        "from sklearn import datasets\n",
        "from sklearn.model_selection import train_test_split\n",
        "\n",
        "def accuracy(y_true, y_pred):\n",
        "    accuracy = np.sum(y_true == y_pred) / len(y_true)\n",
        "    return accuracy\n",
        "\n",
        "data = datasets.load_breast_cancer()\n",
        "X = data.data\n",
        "y = data.target\n",
        "\n",
        "y[y==0] = -1\n",
        "\n",
        "X_train, X_test, y_train, y_test = train_test_split(X, y, test_size=0.2, random_state=5)\n",
        "\n",
        "# Adaboost classification with 5 weak classifiers\n",
        "clf = Adaboost(n_clf=5)\n",
        "clf.fit(X_train, y_train)\n",
        "y_pred = clf.predict(X_test)\n",
        "\n",
        "acc = accuracy(y_test, y_pred)\n",
        "print(\"Accuracy:\", acc)"
      ],
      "metadata": {
        "colab": {
          "base_uri": "https://localhost:8080/"
        },
        "id": "uRIyeUp0OVCb",
        "outputId": "e9367f9a-808b-4fb4-b867-b87525620057"
      },
      "execution_count": 2,
      "outputs": [
        {
          "output_type": "stream",
          "name": "stdout",
          "text": [
            "Accuracy: 0.9473684210526315\n"
          ]
        }
      ]
    },
    {
      "cell_type": "code",
      "source": [],
      "metadata": {
        "id": "CTnfAdPMPZW7"
      },
      "execution_count": null,
      "outputs": []
    }
  ]
}